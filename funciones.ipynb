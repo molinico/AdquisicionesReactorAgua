{
 "cells": [
  {
   "cell_type": "code",
   "execution_count": 9,
   "metadata": {},
   "outputs": [],
   "source": [
    "import matplotlib.pyplot as plt\n",
    "import numpy as np\n",
    "import math\n",
    "import time\n",
    "import scipy.signal\n",
    "from scipy.optimize import curve_fit\n",
    "import scipy.stats as stats\n",
    "import pandas as pd\n",
    "import os\n",
    "from  scipy.stats import chi2_contingency\n",
    "from statsmodels.stats.weightstats import DescrStatsW\n",
    "\n",
    "\n",
    "def sin(x,T,a,b):\n",
    "    y=a*np.sin(2*np.pi/T*x)+b\n",
    "    return y\n",
    "\n",
    "\n",
    "def periodo(t_señal, señal, percent_tol = 20, separacion_max = 100):\n",
    "    inds_max = [i for i in range(len(señal))\n",
    "        if señal[i] >= max(señal)*(1-percent_tol/100)]\n",
    "\n",
    "    ind_periodos = [0] + [i+1 for i in range(len(inds_max) -1)\n",
    "        if (inds_max[i+1]-inds_max[i])>separacion_max ] + [len (inds_max)]\n",
    "\n",
    "    ventanas = [ inds_max[ind_periodos [i]:ind_periodos [i+1]]\n",
    "        for i in range(len(ind_periodos) -1)]\n",
    "\n",
    "    picos_index = [round(np.mean(i)) for i in ventanas]\n",
    "\n",
    "    tper = np.mean([(t_señal[picos_index[i+1]]-t_señal[picos_index[i]]) for i in range(len(picos_index) -1)])\n",
    "                   \n",
    "    iper = round(np.mean([(picos_index[i+1]-picos_index[i]) for i in range (len(picos_index) -1)]))\n",
    "\n",
    "    return tper, iper\n"
   ]
  },
  {
   "cell_type": "code",
   "execution_count": 11,
   "metadata": {},
   "outputs": [
    {
     "ename": "NameError",
     "evalue": "name 't' is not defined",
     "output_type": "error",
     "traceback": [
      "\u001b[1;31m---------------------------------------------------------------------------\u001b[0m",
      "\u001b[1;31mNameError\u001b[0m                                 Traceback (most recent call last)",
      "\u001b[1;32mC:\\Users\\NICOLS~1\\AppData\\Local\\Temp/ipykernel_19852/1788622139.py\u001b[0m in \u001b[0;36m<module>\u001b[1;34m\u001b[0m\n\u001b[1;32m----> 1\u001b[1;33m \u001b[0mperiodo\u001b[0m\u001b[1;33m(\u001b[0m\u001b[0mt\u001b[0m\u001b[1;33m,\u001b[0m\u001b[0mVdbd\u001b[0m\u001b[1;33m)\u001b[0m\u001b[1;33m\u001b[0m\u001b[1;33m\u001b[0m\u001b[0m\n\u001b[0m",
      "\u001b[1;31mNameError\u001b[0m: name 't' is not defined"
     ]
    }
   ],
   "source": [
    "periodo(t,Vdbd)"
   ]
  },
  {
   "cell_type": "code",
   "execution_count": null,
   "metadata": {},
   "outputs": [],
   "source": []
  }
 ],
 "metadata": {
  "kernelspec": {
   "display_name": "base",
   "language": "python",
   "name": "python3"
  },
  "language_info": {
   "codemirror_mode": {
    "name": "ipython",
    "version": 3
   },
   "file_extension": ".py",
   "mimetype": "text/x-python",
   "name": "python",
   "nbconvert_exporter": "python",
   "pygments_lexer": "ipython3",
   "version": "3.9.7"
  },
  "orig_nbformat": 4
 },
 "nbformat": 4,
 "nbformat_minor": 2
}
